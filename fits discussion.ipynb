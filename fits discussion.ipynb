{
 "cells": [
  {
   "cell_type": "code",
   "execution_count": 4,
   "id": "fd6b1c6a",
   "metadata": {},
   "outputs": [],
   "source": [
    "from astropy.io import fits"
   ]
  },
  {
   "cell_type": "code",
   "execution_count": 6,
   "id": "7b7806ae",
   "metadata": {},
   "outputs": [],
   "source": [
    "fit = fits.open('fits_file_disc.fits')"
   ]
  },
  {
   "cell_type": "code",
   "execution_count": 7,
   "id": "d851e7a5",
   "metadata": {},
   "outputs": [
    {
     "name": "stdout",
     "output_type": "stream",
     "text": [
      "Filename: fits_file_disc.fits\n",
      "No.    Name      Ver    Type      Cards   Dimensions   Format\n",
      "  0  PRIMARY       1 PrimaryHDU       4   ()      \n",
      "  1                1 BinTableHDU     12   31023R x 2C   [E, E]   \n"
     ]
    }
   ],
   "source": [
    "fit.info()"
   ]
  },
  {
   "cell_type": "code",
   "execution_count": 8,
   "id": "1b6b2ebe",
   "metadata": {},
   "outputs": [],
   "source": [
    "fit.close()"
   ]
  },
  {
   "cell_type": "code",
   "execution_count": 12,
   "id": "d41010b1",
   "metadata": {},
   "outputs": [
    {
     "name": "stdout",
     "output_type": "stream",
     "text": [
      "Filename: fits_file_disc.fits\n",
      "No.    Name      Ver    Type      Cards   Dimensions   Format\n",
      "  0  PRIMARY       1 PrimaryHDU       4   ()      \n",
      "  1                1 BinTableHDU     12   31023R x 2C   [E, E]   \n"
     ]
    }
   ],
   "source": [
    "with fits.open('fits_file_disc.fits') as fit:\n",
    "    fit.info()\n",
    "    data = fit[1].data"
   ]
  },
  {
   "cell_type": "code",
   "execution_count": 13,
   "id": "c50663f1",
   "metadata": {},
   "outputs": [
    {
     "data": {
      "text/plain": [
       "FITS_rec([(  500.    , 4.3531495e-10), (  500.0834, 4.3527074e-10),\n",
       "          (  500.1668, 4.3521931e-10), ..., (59995.562 , 5.2378674e-10),\n",
       "          (60005.562 , 5.2362126e-10), (60015.574 , 5.2347715e-10)],\n",
       "         dtype=(numpy.record, [('Wavelength (Angstroms)', '>f4'), ('Flux', '>f4')]))"
      ]
     },
     "execution_count": 13,
     "metadata": {},
     "output_type": "execute_result"
    }
   ],
   "source": [
    "data"
   ]
  },
  {
   "cell_type": "code",
   "execution_count": 14,
   "id": "8dcc3406",
   "metadata": {},
   "outputs": [],
   "source": [
    "from astropy.wcs import WCS"
   ]
  },
  {
   "cell_type": "code",
   "execution_count": null,
   "id": "5387a3df",
   "metadata": {},
   "outputs": [],
   "source": [
    "with fits.open('fits_file_disc.fits')"
   ]
  }
 ],
 "metadata": {
  "kernelspec": {
   "display_name": "Python 3 (ipykernel)",
   "language": "python",
   "name": "python3"
  },
  "language_info": {
   "codemirror_mode": {
    "name": "ipython",
    "version": 3
   },
   "file_extension": ".py",
   "mimetype": "text/x-python",
   "name": "python",
   "nbconvert_exporter": "python",
   "pygments_lexer": "ipython3",
   "version": "3.11.5"
  }
 },
 "nbformat": 4,
 "nbformat_minor": 5
}
